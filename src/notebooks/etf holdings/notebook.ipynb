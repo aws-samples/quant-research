{
 "cells": [
  {
   "attachments": {},
   "cell_type": "markdown",
   "id": "38162372-a37c-4693-bf8e-f6aa979e84e7",
   "metadata": {},
   "source": [
    "## Experiment\n",
    "As SPY ETF holdings changes over time. So we build a simple strategy around that. Portfolio goes long stocks added to the index and shorts equivalent amount of stocks deleted. To keep this notebook simple we only traded following stocks `PENN`, `PVH`, `INVH`, `CSGP`.\n",
    "We test short-term holding period such as entry_point `2022-09-02`, exit_point `2022-10-31`. However this experiment can be extended as backtesting libraries like `vectorbt`, `backtrader`,`alpaca-py`, `pyfolio` are all baked into this docker image so that customers don't have to spend time figuring out dependency management.\n",
    "\n",
    "ETF holding changes are as follows:\n",
    "**announcement date:**  2022-09-02\n",
    "**effective date:** 2022-09-19"
   ]
  },
  {
   "attachments": {},
   "cell_type": "markdown",
   "id": "73b3d5c0-4a2f-4223-b54f-146a7129c5f3",
   "metadata": {},
   "source": [
    "### Data Preparation\n",
    "\n",
    "In this section we are going to prepare dataset using data provider's API. First we'll download the SPY ETF holdings for Q1 2022. We'll tag this data as 2022Q1 to be able to access state of the table later on easily. The next update from data provider api is on Q3 2022 therefore first we'll expire the stocks in the etf holdings table and merge new stocks into it. If stocks are matching then we'll set the status as `unchanged` to state that stock is still part of etf. If there are additional stocks in the new dataset then we'll set the status as `new`. If new dataset is lacking some stocks that existing etf_holdings table has then we'll leave these stocks status as `expired` to state that these stocks are no longer in the etf. Each state transition will be tagged for trackability purpose."
   ]
  },
  {
   "cell_type": "code",
   "execution_count": null,
   "id": "9b585ee3-8906-491a-8579-2ed7d8695318",
   "metadata": {
    "tags": []
   },
   "outputs": [],
   "source": [
    "import requests\n",
    "import json\n",
    "from pyspark.sql import functions as f\n",
    "\n",
    "API_KEY='{YOUR API KEY}'\n",
    "\n",
    "def url_for_etf_holdings(date):\n",
    "    return f'https://url/to/dataendpoint'\n",
    "\n",
    "\n",
    "def load_json_as_dataframe(url, selector=None):    \n",
    "    data = requests.get(url).content.decode('utf-8')\n",
    "    json_data = json.loads(data)\n",
    "    rdd = spark.sparkContext.parallelize(json_data[selector] if selector else json_data)\n",
    "    return spark.read.json(rdd)\n",
    "\n",
    "(\n",
    "    load_json_as_dataframe(url_for_etf_holdings('2022-03-31'))\n",
    "    .withColumn(\"status\",f.lit(\"new\"))\n",
    "    .createOrReplaceTempView(\"2022Q1\")\n",
    ")"
   ]
  },
  {
   "cell_type": "code",
   "execution_count": null,
   "id": "c85a08de-8149-4a4b-8b52-c7d053a3c6ff",
   "metadata": {},
   "outputs": [],
   "source": [
    "spark.sql(\"DROP TABLE IF EXISTS glue_catalog.quant.etf_holdings\")\n",
    "spark.sql(\"\"\"\n",
    "CREATE TABLE glue_catalog.quant.etf_holdings\n",
    "USING iceberg\n",
    "OPTIONS ('format-version'='2')\n",
    "LOCATION 's3://trader-warehouse-us-east-1/etf_holdings/'\n",
    "AS SELECT * FROM 2022Q1\n",
    "\"\"\")"
   ]
  },
  {
   "cell_type": "code",
   "execution_count": 5,
   "id": "0ee78111-b4ee-4dca-895d-50d98b48600f",
   "metadata": {
    "execution": {
     "iopub.execute_input": "2023-04-05T13:26:49.479857Z",
     "iopub.status.busy": "2023-04-05T13:26:49.479453Z",
     "iopub.status.idle": "2023-04-05T13:26:50.918903Z",
     "shell.execute_reply": "2023-04-05T13:26:50.918157Z",
     "shell.execute_reply.started": "2023-04-05T13:26:49.479829Z"
    },
    "tags": []
   },
   "outputs": [
    {
     "name": "stdout",
     "output_type": "stream",
     "text": [
      "+------+----------+-------------------+------+\n",
      "|symbol|      date|     acceptanceTime|status|\n",
      "+------+----------+-------------------+------+\n",
      "|   HON|2022-03-31|2022-05-27 13:54:03|   new|\n",
      "|   DFS|2022-03-31|2022-05-27 13:54:03|   new|\n",
      "|   FMC|2022-03-31|2022-05-27 13:54:03|   new|\n",
      "|  NDSN|2022-03-31|2022-05-27 13:54:03|   new|\n",
      "|   CRL|2022-03-31|2022-05-27 13:54:03|   new|\n",
      "|  EPAM|2022-03-31|2022-05-27 13:54:03|   new|\n",
      "|  CSCO|2022-03-31|2022-05-27 13:54:03|   new|\n",
      "|   ALB|2022-03-31|2022-05-27 13:54:03|   new|\n",
      "|   AIZ|2022-03-31|2022-05-27 13:54:03|   new|\n",
      "|   CRM|2022-03-31|2022-05-27 13:54:03|   new|\n",
      "|  PENN|2022-03-31|2022-05-27 13:54:03|   new|\n",
      "|  INTU|2022-03-31|2022-05-27 13:54:03|   new|\n",
      "|   DOW|2022-03-31|2022-05-27 13:54:03|   new|\n",
      "|   LHX|2022-03-31|2022-05-27 13:54:03|   new|\n",
      "|   BLK|2022-03-31|2022-05-27 13:54:03|   new|\n",
      "|  ZBRA|2022-03-31|2022-05-27 13:54:03|   new|\n",
      "|   UPS|2022-03-31|2022-05-27 13:54:03|   new|\n",
      "|    DG|2022-03-31|2022-05-27 13:54:03|   new|\n",
      "|  DISH|2022-03-31|2022-05-27 13:54:03|   new|\n",
      "|      |2022-03-31|2022-05-27 13:54:03|   new|\n",
      "+------+----------+-------------------+------+\n",
      "only showing top 20 rows\n",
      "\n"
     ]
    }
   ],
   "source": [
    "# Quick look at the table if we have the data\n",
    "spark.table(\"glue_catalog.quant.etf_holdings\").select(\"symbol\",\"date\",\"acceptanceTime\", \"status\").show()"
   ]
  },
  {
   "attachments": {},
   "cell_type": "markdown",
   "id": "2195932c-c9d6-4386-ab5e-2eab7f6da2a2",
   "metadata": {},
   "source": [
    "#### Labeling Table\n",
    "\n",
    "Here we are going to label this initial table so that later on we can access the state of the table as it was later on."
   ]
  },
  {
   "cell_type": "code",
   "execution_count": 6,
   "id": "de59f837-d906-4554-bdaf-0f1f0e354f7a",
   "metadata": {
    "execution": {
     "iopub.execute_input": "2023-04-05T13:26:55.696055Z",
     "iopub.status.busy": "2023-04-05T13:26:55.695633Z",
     "iopub.status.idle": "2023-04-05T13:26:56.596457Z",
     "shell.execute_reply": "2023-04-05T13:26:56.595844Z",
     "shell.execute_reply.started": "2023-04-05T13:26:55.696026Z"
    },
    "tags": []
   },
   "outputs": [
    {
     "data": {
      "text/plain": [
       "DataFrame[]"
      ]
     },
     "execution_count": 6,
     "metadata": {},
     "output_type": "execute_result"
    }
   ],
   "source": [
    "spark.sql(\"ALTER TABLE glue_catalog.quant.etf_holdings CREATE TAG Q1_2022\")"
   ]
  },
  {
   "attachments": {},
   "cell_type": "markdown",
   "id": "92b2d2cd-1718-4f26-99cb-dbd04ae867aa",
   "metadata": {},
   "source": [
    "### Simulate a Scenario of ETF Holdings Table Ingestion\n",
    "In this step we'll expire etf holdings first then merge new ones into it. If we already have the stock in the existing table then we'll set status back to unchanged. If there are new stocks they'll be registered as new. Non matching stocks will stay expired. That way in this table we'll be able keep both new, unchanged and expired stocks in the etf holdings table. "
   ]
  },
  {
   "cell_type": "code",
   "execution_count": 7,
   "id": "5fc2f97f-32e3-4e95-8177-7a9a46b50d22",
   "metadata": {
    "execution": {
     "iopub.execute_input": "2023-04-05T13:26:58.647980Z",
     "iopub.status.busy": "2023-04-05T13:26:58.647590Z",
     "iopub.status.idle": "2023-04-05T13:27:14.343615Z",
     "shell.execute_reply": "2023-04-05T13:27:14.342867Z",
     "shell.execute_reply.started": "2023-04-05T13:26:58.647951Z"
    },
    "tags": []
   },
   "outputs": [
    {
     "data": {
      "text/plain": [
       "DataFrame[]"
      ]
     },
     "execution_count": 7,
     "metadata": {},
     "output_type": "execute_result"
    }
   ],
   "source": [
    "spark.sql(\"\"\"\n",
    "UPDATE glue_catalog.quant.etf_holdings\n",
    "SET status = 'expired'\n",
    "\"\"\")"
   ]
  },
  {
   "cell_type": "code",
   "execution_count": 8,
   "id": "1048dc4b-f441-4deb-8387-3d3b7bd72caa",
   "metadata": {
    "execution": {
     "iopub.execute_input": "2023-04-05T13:27:14.345233Z",
     "iopub.status.busy": "2023-04-05T13:27:14.344873Z",
     "iopub.status.idle": "2023-04-05T13:27:14.594218Z",
     "shell.execute_reply": "2023-04-05T13:27:14.593293Z",
     "shell.execute_reply.started": "2023-04-05T13:27:14.345209Z"
    },
    "tags": []
   },
   "outputs": [
    {
     "name": "stdout",
     "output_type": "stream",
     "text": [
      "+------+----------+-------------------+-------+\n",
      "|symbol|      date|     acceptanceTime| status|\n",
      "+------+----------+-------------------+-------+\n",
      "|   HON|2022-03-31|2022-05-27 13:54:03|expired|\n",
      "|   DFS|2022-03-31|2022-05-27 13:54:03|expired|\n",
      "|   FMC|2022-03-31|2022-05-27 13:54:03|expired|\n",
      "|  NDSN|2022-03-31|2022-05-27 13:54:03|expired|\n",
      "|   CRL|2022-03-31|2022-05-27 13:54:03|expired|\n",
      "|  EPAM|2022-03-31|2022-05-27 13:54:03|expired|\n",
      "|  CSCO|2022-03-31|2022-05-27 13:54:03|expired|\n",
      "|   ALB|2022-03-31|2022-05-27 13:54:03|expired|\n",
      "|   AIZ|2022-03-31|2022-05-27 13:54:03|expired|\n",
      "|   CRM|2022-03-31|2022-05-27 13:54:03|expired|\n",
      "|  PENN|2022-03-31|2022-05-27 13:54:03|expired|\n",
      "|  INTU|2022-03-31|2022-05-27 13:54:03|expired|\n",
      "|   DOW|2022-03-31|2022-05-27 13:54:03|expired|\n",
      "|   LHX|2022-03-31|2022-05-27 13:54:03|expired|\n",
      "|   BLK|2022-03-31|2022-05-27 13:54:03|expired|\n",
      "|  ZBRA|2022-03-31|2022-05-27 13:54:03|expired|\n",
      "|   UPS|2022-03-31|2022-05-27 13:54:03|expired|\n",
      "|    DG|2022-03-31|2022-05-27 13:54:03|expired|\n",
      "|  DISH|2022-03-31|2022-05-27 13:54:03|expired|\n",
      "|      |2022-03-31|2022-05-27 13:54:03|expired|\n",
      "+------+----------+-------------------+-------+\n",
      "only showing top 20 rows\n",
      "\n"
     ]
    }
   ],
   "source": [
    "spark.table(\"glue_catalog.quant.etf_holdings\").select(\"symbol\",\"date\",\"acceptanceTime\", \"status\").show()"
   ]
  },
  {
   "attachments": {},
   "cell_type": "markdown",
   "id": "17ed7ac2-5240-4064-86a7-2abc776fc685",
   "metadata": {},
   "source": [
    "Now entire table is in expired state. However we can still query the table in the previous state using tags. So that quants won't be effected from ongoing maintanence task"
   ]
  },
  {
   "cell_type": "code",
   "execution_count": 9,
   "id": "9c46be23-8326-4fb9-87a6-79acf8c6b702",
   "metadata": {
    "execution": {
     "iopub.execute_input": "2023-04-05T13:27:14.596008Z",
     "iopub.status.busy": "2023-04-05T13:27:14.595563Z",
     "iopub.status.idle": "2023-04-05T13:27:14.840098Z",
     "shell.execute_reply": "2023-04-05T13:27:14.839414Z",
     "shell.execute_reply.started": "2023-04-05T13:27:14.595966Z"
    },
    "tags": []
   },
   "outputs": [
    {
     "name": "stdout",
     "output_type": "stream",
     "text": [
      "+------+----------+-------------------+------+\n",
      "|symbol|      date|     acceptanceTime|status|\n",
      "+------+----------+-------------------+------+\n",
      "|   HON|2022-03-31|2022-05-27 13:54:03|   new|\n",
      "|   DFS|2022-03-31|2022-05-27 13:54:03|   new|\n",
      "|   FMC|2022-03-31|2022-05-27 13:54:03|   new|\n",
      "|  NDSN|2022-03-31|2022-05-27 13:54:03|   new|\n",
      "|   CRL|2022-03-31|2022-05-27 13:54:03|   new|\n",
      "|  EPAM|2022-03-31|2022-05-27 13:54:03|   new|\n",
      "|  CSCO|2022-03-31|2022-05-27 13:54:03|   new|\n",
      "|   ALB|2022-03-31|2022-05-27 13:54:03|   new|\n",
      "|   AIZ|2022-03-31|2022-05-27 13:54:03|   new|\n",
      "|   CRM|2022-03-31|2022-05-27 13:54:03|   new|\n",
      "|  PENN|2022-03-31|2022-05-27 13:54:03|   new|\n",
      "|  INTU|2022-03-31|2022-05-27 13:54:03|   new|\n",
      "|   DOW|2022-03-31|2022-05-27 13:54:03|   new|\n",
      "|   LHX|2022-03-31|2022-05-27 13:54:03|   new|\n",
      "|   BLK|2022-03-31|2022-05-27 13:54:03|   new|\n",
      "|  ZBRA|2022-03-31|2022-05-27 13:54:03|   new|\n",
      "|   UPS|2022-03-31|2022-05-27 13:54:03|   new|\n",
      "|    DG|2022-03-31|2022-05-27 13:54:03|   new|\n",
      "|  DISH|2022-03-31|2022-05-27 13:54:03|   new|\n",
      "|      |2022-03-31|2022-05-27 13:54:03|   new|\n",
      "+------+----------+-------------------+------+\n",
      "only showing top 20 rows\n",
      "\n"
     ]
    }
   ],
   "source": [
    "spark.sql(\"\"\"SELECT symbol, date, acceptanceTime, status \n",
    "FROM glue_catalog.quant.etf_holdings \n",
    "VERSION AS OF 'Q1_2022'\n",
    "\"\"\").show()"
   ]
  },
  {
   "attachments": {},
   "cell_type": "markdown",
   "id": "f1f31dcb-d3da-490c-b2da-2d600fc46d5c",
   "metadata": {},
   "source": [
    "So while quants are busy with working on this branch of the data ongoing ETL process is now going to update the data with new ETF holdings data."
   ]
  },
  {
   "cell_type": "code",
   "execution_count": 10,
   "id": "da1a85dd-6562-445a-b150-d98c688fa653",
   "metadata": {
    "execution": {
     "iopub.execute_input": "2023-04-05T13:27:14.842034Z",
     "iopub.status.busy": "2023-04-05T13:27:14.841714Z",
     "iopub.status.idle": "2023-04-05T13:27:18.901064Z",
     "shell.execute_reply": "2023-04-05T13:27:18.900364Z",
     "shell.execute_reply.started": "2023-04-05T13:27:14.842010Z"
    },
    "tags": []
   },
   "outputs": [
    {
     "data": {
      "text/plain": [
       "DataFrame[]"
      ]
     },
     "execution_count": 10,
     "metadata": {},
     "output_type": "execute_result"
    }
   ],
   "source": [
    "(\n",
    "    load_json_as_dataframe(url_for_etf_holdings('2022-09-30'))\n",
    "    .withColumn(\"status\",f.lit(\"new\"))\n",
    "    .createOrReplaceTempView(\"2022Q3\")\n",
    ")\n",
    "\n",
    "spark.sql(\"\"\"\n",
    "MERGE INTO glue_catalog.quant.etf_holdings t\n",
    "USING (SELECT * FROM 2022Q3) s\n",
    "ON t.isin = s.isin\n",
    "WHEN MATCHED THEN\n",
    "    UPDATE SET t.acceptanceTime = s.acceptanceTime,\n",
    "               t.date = s.date,\n",
    "               t.balance = s.balance,\n",
    "               t.valUsd = s.valUsd,\n",
    "               t.pctVal = s.pctVal,\n",
    "               t.status = \"unchanged\"\n",
    "WHEN NOT MATCHED THEN INSERT *\n",
    "\"\"\")"
   ]
  },
  {
   "attachments": {},
   "cell_type": "markdown",
   "id": "8135d3f5-59d6-4976-b4ef-99cb2cb97971",
   "metadata": {},
   "source": [
    "Since now we merged new data into our existing table it's time to tag this as well"
   ]
  },
  {
   "cell_type": "code",
   "execution_count": 11,
   "id": "79555d8f-05b9-4cca-b8f0-654316b8ad99",
   "metadata": {
    "execution": {
     "iopub.execute_input": "2023-04-05T13:27:18.902363Z",
     "iopub.status.busy": "2023-04-05T13:27:18.902079Z",
     "iopub.status.idle": "2023-04-05T13:27:19.822659Z",
     "shell.execute_reply": "2023-04-05T13:27:19.821962Z",
     "shell.execute_reply.started": "2023-04-05T13:27:18.902339Z"
    },
    "tags": []
   },
   "outputs": [
    {
     "data": {
      "text/plain": [
       "DataFrame[]"
      ]
     },
     "execution_count": 11,
     "metadata": {},
     "output_type": "execute_result"
    }
   ],
   "source": [
    "spark.sql(\"ALTER TABLE glue_catalog.quant.etf_holdings CREATE TAG Q3_2022\")"
   ]
  },
  {
   "attachments": {},
   "cell_type": "markdown",
   "id": "ecba91d6-f935-4186-8c57-ee4aaa7da4e1",
   "metadata": {},
   "source": [
    "Let's query the newly added and expired stocks to see the effect of rebalance on the ETF"
   ]
  },
  {
   "cell_type": "code",
   "execution_count": 12,
   "id": "334c5655-68b0-4648-b489-a05e56ccfea0",
   "metadata": {
    "execution": {
     "iopub.execute_input": "2023-04-05T13:27:19.824082Z",
     "iopub.status.busy": "2023-04-05T13:27:19.823564Z",
     "iopub.status.idle": "2023-04-05T13:27:20.407301Z",
     "shell.execute_reply": "2023-04-05T13:27:20.406403Z",
     "shell.execute_reply.started": "2023-04-05T13:27:19.824059Z"
    },
    "tags": []
   },
   "outputs": [
    {
     "name": "stdout",
     "output_type": "stream",
     "text": [
      "+------+------------+-------------------+----------+\n",
      "|symbol|        isin|     acceptanceTime|      date|\n",
      "+------+------------+-------------------+----------+\n",
      "|   CPT|US1331311027|2022-11-28 15:50:55|2022-09-30|\n",
      "|  CSGP|US22160N1090|2022-11-28 15:50:55|2022-09-30|\n",
      "|  EMBC|US29082K1051|2022-11-28 15:50:55|2022-09-30|\n",
      "|  INVH|US46187W1071|2022-11-28 15:50:55|2022-09-30|\n",
      "|     J|US46982L1089|2022-11-28 15:50:55|2022-09-30|\n",
      "|   KDP|US49271V1008|2022-11-28 15:50:55|2022-09-30|\n",
      "|    ON|US6821891057|2022-11-28 15:50:55|2022-09-30|\n",
      "|  VICI|US9256521090|2022-11-28 15:50:55|2022-09-30|\n",
      "|   WBD|US9344231041|2022-11-28 15:50:55|2022-09-30|\n",
      "+------+------------+-------------------+----------+\n",
      "\n"
     ]
    }
   ],
   "source": [
    "spark.sql(\"\"\"SELECT symbol, isin, acceptanceTime, date \n",
    "FROM glue_catalog.quant.etf_holdings \n",
    "AS OF 'Q3_2022' EXCEPT \n",
    "SELECT symbol, isin, acceptanceTime, date \n",
    "FROM glue_catalog.quant.etf_holdings \n",
    "AS OF 'Q1_2022'\n",
    "\"\"\").show()\n"
   ]
  },
  {
   "attachments": {},
   "cell_type": "markdown",
   "id": "ad4684bc-1896-41c7-9a7b-392a082c975c",
   "metadata": {},
   "source": [
    "Also let's query expired stocks to see which ones are removed from the ETF"
   ]
  },
  {
   "cell_type": "code",
   "execution_count": 13,
   "id": "dfae7fed-ec55-4a50-9cc9-89bf5d5625f0",
   "metadata": {
    "execution": {
     "iopub.execute_input": "2023-04-05T13:27:20.408567Z",
     "iopub.status.busy": "2023-04-05T13:27:20.408261Z",
     "iopub.status.idle": "2023-04-05T13:27:20.624090Z",
     "shell.execute_reply": "2023-04-05T13:27:20.623401Z",
     "shell.execute_reply.started": "2023-04-05T13:27:20.408533Z"
    },
    "tags": []
   },
   "outputs": [
    {
     "name": "stdout",
     "output_type": "stream",
     "text": [
      "+------+------------+-------------------+----------+\n",
      "|symbol|        isin|     acceptanceTime|      date|\n",
      "+------+------------+-------------------+----------+\n",
      "|  PENN|US7075691094|2022-05-27 13:54:03|2022-03-31|\n",
      "|    UA|US9043112062|2022-05-27 13:54:03|2022-03-31|\n",
      "|   UAA|US9043111072|2022-05-27 13:54:03|2022-03-31|\n",
      "|   LTP|US7127041058|2022-05-27 13:54:03|2022-03-31|\n",
      "| DISCA|US25470F1049|2022-05-27 13:54:03|2022-03-31|\n",
      "|  CERN|US1567821046|2022-05-27 13:54:03|2022-03-31|\n",
      "|  IPGP|US44980X1090|2022-05-27 13:54:03|2022-03-31|\n",
      "|      |US25470F3029|2022-05-27 13:54:03|2022-03-31|\n",
      "|     J|US4698141078|2022-05-27 13:54:03|2022-03-31|\n",
      "|   PVH|US6936561009|2022-05-27 13:54:03|2022-03-31|\n",
      "+------+------------+-------------------+----------+\n",
      "\n"
     ]
    }
   ],
   "source": [
    "spark.sql(\"\"\"SELECT symbol, isin, acceptanceTime, date \n",
    "FROM glue_catalog.quant.etf_holdings \n",
    "AS OF 'Q1_2022' EXCEPT \n",
    "SELECT symbol, isin, acceptanceTime, date \n",
    "FROM glue_catalog.quant.etf_holdings \n",
    "AS OF 'Q3_2022'\n",
    "\"\"\").show()"
   ]
  },
  {
   "attachments": {},
   "cell_type": "markdown",
   "id": "abd4f3eb-07d5-477a-934e-de2ccaa60741",
   "metadata": {},
   "source": [
    "### Backtesting\n",
    "In this section we'll backtest the strategy that about is taking long position for stocks that are added to ETF such as `CSGP` and `INVH` and taking short position that are removed from the index such as `PVH` and `PENN`. First we'll examine this strategy on the chart to see if divergence really happened. To do that we need historical data for CSGP, INVH, PVH and PENN as well as SPY to see how ETF behaved overtime."
   ]
  },
  {
   "cell_type": "code",
   "execution_count": 18,
   "id": "04378904-6659-4341-8bf7-2436bfe5ccc3",
   "metadata": {
    "execution": {
     "iopub.execute_input": "2023-04-05T13:29:08.431884Z",
     "iopub.status.busy": "2023-04-05T13:29:08.431490Z",
     "iopub.status.idle": "2023-04-05T13:29:20.243538Z",
     "shell.execute_reply": "2023-04-05T13:29:20.242795Z",
     "shell.execute_reply.started": "2023-04-05T13:29:08.431858Z"
    },
    "tags": []
   },
   "outputs": [],
   "source": [
    "symbols = [\"CSGP\", \"INVH\", \"PVH\", \"PENN\"]\n",
    "\n",
    "def url_for_historical_data(symbol, date_from, date_to):\n",
    "    return f'https://financialmodelingprep.com/api/v3/historical-price-full/{symbol}?from={date_from}&to={date_to}&apikey={API_KEY}'\n",
    "\n",
    "\n",
    "def historical_data_for(symbol, columns=[\"open\", \"high\", \"low\", \"close\", \"adjClose\"]):\n",
    "    cols = [f.col(c).alias(f\"{symbol}_{c}\") for c in columns]\n",
    "    cols.insert(0, \"date\") \n",
    "    return (\n",
    "        load_json_as_dataframe(\n",
    "            url_for_historical_data(symbol, \"2022-08-01\", \"2022-12-01\"), \n",
    "            \"historical\"\n",
    "        )\n",
    "        .select(cols)\n",
    "    )\n",
    "\n",
    "spark.sql(\"DROP TABLE IF EXISTS glue_catalog.quant.historical_prices\")\n",
    "\n",
    "(\n",
    "    historical_data_for(\"SPY\",[\"open\",\"close\"])\n",
    "        .orderBy(\"date\")\n",
    "        .writeTo(\"glue_catalog.quant.historical_prices\")\n",
    "        .using(\"iceberg\")\n",
    "        .createOrReplace()\n",
    ")\n",
    "\n",
    "for symbol in symbols:\n",
    "    (\n",
    "        historical_data_for(symbol,[\"open\",\"close\"]).join(\n",
    "            spark.table(\"glue_catalog.quant.historical_prices\"), \n",
    "            on = \"date\", \n",
    "            how = \"left\")\n",
    "        .orderBy(\"date\")\n",
    "        .writeTo(\"quant.historical_prices\")\n",
    "        .using(\"iceberg\")\n",
    "        .createOrReplace()\n",
    "    )"
   ]
  },
  {
   "cell_type": "code",
   "execution_count": 32,
   "id": "6ae24dc9-288f-456f-b64f-50322f681905",
   "metadata": {
    "execution": {
     "iopub.execute_input": "2023-04-05T13:52:56.484409Z",
     "iopub.status.busy": "2023-04-05T13:52:56.484002Z",
     "iopub.status.idle": "2023-04-05T13:52:56.926359Z",
     "shell.execute_reply": "2023-04-05T13:52:56.925678Z",
     "shell.execute_reply.started": "2023-04-05T13:52:56.484381Z"
    },
    "tags": []
   },
   "outputs": [
    {
     "name": "stdout",
     "output_type": "stream",
     "text": [
      "+----------+---------+----------+--------+---------+---------+----------+---------+----------+--------+---------+\n",
      "|      date|PENN_open|PENN_close|PVH_open|PVH_close|INVH_open|INVH_close|CSGP_open|CSGP_close|SPY_open|SPY_close|\n",
      "+----------+---------+----------+--------+---------+---------+----------+---------+----------+--------+---------+\n",
      "|2022-08-01|    33.94|     34.53|   61.61|    62.23|    38.96|     38.51|    71.92|     71.16|  409.15|   410.77|\n",
      "|2022-08-02|    34.09|     36.17|   61.32|     61.2|    38.48|     37.98|    70.59|     70.99|  409.12|   408.06|\n",
      "|2022-08-03|    36.91|     36.59|   62.14|    63.03|    38.11|     37.67|    71.31|     72.52|   410.3|   414.45|\n",
      "|2022-08-04|     36.0|     35.14|   62.92|    63.73|    37.67|     37.92|    72.69|     72.87|  414.37|   414.17|\n",
      "|2022-08-05|     34.2|     34.15|   63.19|    64.38|    37.68|     37.88|    71.66|     72.87|  409.66|   413.47|\n",
      "|2022-08-08|    34.76|     36.05|   65.51|    66.36|    37.98|     37.92|    72.95|     72.87|  415.25|   412.99|\n",
      "|2022-08-09|    35.52|     34.11|    65.9|    63.45|    37.96|     38.45|    72.38|     72.89|  412.22|   411.35|\n",
      "|2022-08-10|    35.25|     35.74|   65.71|    65.64|    38.95|     38.94|    74.41|     74.73|  418.78|   419.99|\n",
      "|2022-08-11|    36.48|      35.6|   66.95|    68.77|    39.06|     38.89|     74.7|     73.86|  422.99|   419.99|\n",
      "|2022-08-12|    36.28|      37.7|   69.42|    68.97|     39.1|     39.59|    74.04|     75.06|  422.03|    427.1|\n",
      "|2022-08-15|    37.23|     37.45|   67.99|    68.49|    39.74|     39.78|    74.55|     75.39| 424.765|   428.86|\n",
      "|2022-08-16|    37.03|     37.21|   68.11|    70.98|    39.63|     39.81|     74.7|     75.13|  427.73|    429.7|\n",
      "|2022-08-17|    36.21|     36.03|   69.38|    70.39|    39.48|     39.73|    74.38|      73.5|  425.91|   426.65|\n",
      "|2022-08-18|    35.98|     35.72|   70.24|     70.2|    39.76|      38.8|    73.67|      73.5|  426.86|   427.89|\n",
      "|2022-08-19|    35.01|     34.34|   69.63|     67.5|    38.84|     38.78|    72.57|     71.74|  424.98|   422.14|\n",
      "|2022-08-22|    33.49|     32.86|    65.6|    64.01|     38.5|     38.26|    71.04|     71.57|  417.05|   413.35|\n",
      "|2022-08-23|    32.86|     33.11|   64.69|    65.44|    38.09|     37.49|    71.07|     71.44|   412.9|   412.35|\n",
      "|2022-08-24|    33.07|     33.65|   65.21|    66.08|    37.28|     37.68|     71.4|     71.05|  412.11|   413.67|\n",
      "|2022-08-25|    34.06|      34.2|   66.24|    67.72|    37.87|     38.23|    71.62|      72.5|  415.24|   419.51|\n",
      "|2022-08-26|   34.415|     32.18|   68.01|    64.03|    38.23|     37.28|    72.11|     70.32|  419.39|   405.31|\n",
      "+----------+---------+----------+--------+---------+---------+----------+---------+----------+--------+---------+\n",
      "only showing top 20 rows\n",
      "\n"
     ]
    },
    {
     "name": "stderr",
     "output_type": "stream",
     "text": [
      "/tmp/ipykernel_68/2722982548.py:6: SettingWithCopyWarning: \n",
      "A value is trying to be set on a copy of a slice from a DataFrame\n",
      "\n",
      "See the caveats in the documentation: https://pandas.pydata.org/pandas-docs/stable/user_guide/indexing.html#returning-a-view-versus-a-copy\n",
      "  df_prices.rename(columns={c:c.replace(f\"_{ohlcv}\",\"\") for c in columns}, inplace=True)\n",
      "/tmp/ipykernel_68/2722982548.py:6: SettingWithCopyWarning: \n",
      "A value is trying to be set on a copy of a slice from a DataFrame\n",
      "\n",
      "See the caveats in the documentation: https://pandas.pydata.org/pandas-docs/stable/user_guide/indexing.html#returning-a-view-versus-a-copy\n",
      "  df_prices.rename(columns={c:c.replace(f\"_{ohlcv}\",\"\") for c in columns}, inplace=True)\n"
     ]
    }
   ],
   "source": [
    "historical_prices = spark.table(\"glue_catalog.quant.historical_prices\")\n",
    "\n",
    "def select_columns(df, ohlcv):\n",
    "    columns = [cols for cols in df.columns if ohlcv in cols]\n",
    "    df_prices = df[columns]\n",
    "    df_prices.rename(columns={c:c.replace(f\"_{ohlcv}\",\"\") for c in columns}, inplace=True)\n",
    "    return df_prices\n",
    "\n",
    "\n",
    "historical_prices_pd = historical_prices.drop(\"SPY_open\",\"SPY_close\").toPandas()\n",
    "historical_prices_pd['date'] = pd.to_datetime(historical_prices_pd['date'])\n",
    "historical_prices_pd.set_index(\"date\", inplace=True)\n",
    "\n",
    "historical_open_prices = select_columns(historical_prices_pd, \"open\")\n",
    "historical_close_prices = select_columns(historical_prices_pd, \"close\")\n",
    "\n",
    "historical_prices.show()"
   ]
  },
  {
   "attachments": {},
   "cell_type": "markdown",
   "id": "95ed4201-d19b-45f3-86b6-b9ccf7399a17",
   "metadata": {},
   "source": [
    "We have daily open and close prices for the assets we mentioned about. In the following section we'll calculate daily returns of each one of these stocks based on their daily close price difference. And show cumulative return on one chart to see how they diverge/converge from each other"
   ]
  },
  {
   "cell_type": "code",
   "execution_count": 22,
   "id": "75db44a3-b8f7-45b6-9390-79d6f7eccdb4",
   "metadata": {
    "execution": {
     "iopub.execute_input": "2023-04-05T13:35:58.626069Z",
     "iopub.status.busy": "2023-04-05T13:35:58.625636Z",
     "iopub.status.idle": "2023-04-05T13:35:59.533306Z",
     "shell.execute_reply": "2023-04-05T13:35:59.532612Z",
     "shell.execute_reply.started": "2023-04-05T13:35:58.626040Z"
    },
    "tags": []
   },
   "outputs": [
    {
     "name": "stderr",
     "output_type": "stream",
     "text": [
      "<>:30: SyntaxWarning: \"is\" with a literal. Did you mean \"==\"?\n",
      "<>:30: SyntaxWarning: \"is\" with a literal. Did you mean \"==\"?\n",
      "/tmp/ipykernel_68/4001668177.py:30: SyntaxWarning: \"is\" with a literal. Did you mean \"==\"?\n",
      "  color = \"green\" if col in stocks_added else \"blue\" if col is \"SPY\" else \"red\"\n"
     ]
    },
    {
     "data": {
      "image/png": "[encoded data removed]",
      "text/plain": [
       "<Figure size 1200x800 with 1 Axes>"
      ]
     },
     "metadata": {},
     "output_type": "display_data"
    }
   ],
   "source": [
    "%matplotlib inline\n",
    "import pandas as pd\n",
    "import matplotlib.pyplot as plt\n",
    "import matplotlib.dates as mdates\n",
    "import matplotlib.ticker as ticker\n",
    "\n",
    "plt.style.use('default')\n",
    "\n",
    "\n",
    "def formula_for_stock_return(symbol):\n",
    "    return f\"round(({symbol}_open - LAG({symbol}_open, 1) OVER (ORDER BY date)) / LAG({symbol}_open, 1) OVER (ORDER BY date), 4) AS {symbol}_daily_return\"\n",
    "\n",
    "stocks = [\"SPY\"] + symbols\n",
    "returns_df = spark.sql(f\"\"\"\n",
    "SELECT date,  \n",
    "       {\",\".join([formula_for_stock_return(stock) for stock in stocks])},\n",
    "       {\",\".join(f\"{stock}_open,{stock}_close\" for stock in stocks)}\n",
    "FROM glue_catalog.quant.historical_prices\n",
    "ORDER BY date\n",
    "\"\"\").toPandas()\n",
    "returns_df['date'] = pd.to_datetime(returns_df['date'])\n",
    "returns_df.set_index(\"date\", inplace=True)\n",
    "\n",
    "fig, ax = plt.subplots(figsize=(12,8))\n",
    "stocks_added={\"CSGP\", \"INVH\"}\n",
    "\n",
    "for col in stocks:\n",
    "    c = f\"{col}_daily_return\"\n",
    "    cum_returns = (1 + returns_df[c]).cumprod() - 1\n",
    "    color = \"green\" if col in stocks_added else \"blue\" if col is \"SPY\" else \"red\"\n",
    "    ax.plot(returns_df.index, cum_returns, label=col, color=color)\n",
    "\n",
    "\n",
    "ax.set_title(\"Cumulative Returns Comparison\")\n",
    "ax.set_xlabel(\"Date\")\n",
    "ax.set_ylabel(\"Cumulative Return\")\n",
    "ax.xaxis.set_major_locator(mdates.AutoDateLocator())\n",
    "ax.xaxis.set_major_formatter(mdates.DateFormatter('%Y-%m-%d'))\n",
    "ax.xaxis.set_minor_locator(ticker.AutoMinorLocator())\n",
    "ax.axvline(pd.Timestamp('2022-09-02'), color='r', linestyle='--')\n",
    "ax.axvline(pd.Timestamp('2022-09-19'), color='g', linestyle='--')\n",
    "ax.axvline(pd.Timestamp('2022-09-30'), color='b', linestyle='--')\n",
    "\n",
    "plt.legend()\n",
    "plt.show()\n"
   ]
  },
  {
   "attachments": {},
   "cell_type": "markdown",
   "id": "3d35c4e9-8e0f-488d-a143-046abca33b39",
   "metadata": {},
   "source": [
    "As we can see in the graph actual divergence starts at the beginning of the September. However in the data we have date column as end of September. Then quant realizes here that data might be broken somehow. Luckily with Apache Iceberg we can go back in time and query the table based on tags. That will allow quants to see what was the state of the table at given point of time."
   ]
  },
  {
   "attachments": {},
   "cell_type": "markdown",
   "id": "1f43a0f5-f6b6-4b2e-9ba0-e52616f85bb6",
   "metadata": {},
   "source": [
    "Let's backtest the following strategy for different position openning times. Here we'll long stocks added to the index and shorts equivalent amount of stocks removed from the index. We test short-term holding periods, such as 1 day and 1/2/3/4 weeks, as we assume that rebalancing effect is very short lived and new information, such as macro-economics, will drive performance beyond studied time horizons. Lastly we simulate different entry points for this trade \n",
    "- market open the day after announcement day (AD+1) \n",
    "- market close of effective date (ED0) \n",
    "- market open the day after ETF holdings registered the change (MD+1)."
   ]
  },
  {
   "cell_type": "code",
   "execution_count": 65,
   "id": "0792a6e4-70dc-4933-8385-fe9bf0f90383",
   "metadata": {
    "execution": {
     "iopub.execute_input": "2023-04-05T14:21:45.091689Z",
     "iopub.status.busy": "2023-04-05T14:21:45.091286Z",
     "iopub.status.idle": "2023-04-05T14:21:45.099760Z",
     "shell.execute_reply": "2023-04-05T14:21:45.099124Z",
     "shell.execute_reply.started": "2023-04-05T14:21:45.091660Z"
    },
    "tags": []
   },
   "outputs": [],
   "source": [
    "import numpy as np\n",
    "import vectorbt as vbt\n",
    "\n",
    "def backtest(entry_point='2022-09-02', exit_point='2022-10-31'):\n",
    "    open_position = (historical_prices_pd.index == entry_point)\n",
    "    close_position = (historical_prices_pd.index == exit_point)\n",
    "\n",
    "    CASH = 100000\n",
    "    COMMPERC = 0.000\n",
    "\n",
    "    symbol_cols = pd.Index(['PENN', 'PVH', 'INVH', 'CSGP'], name='symbol')\n",
    "    order_size = pd.DataFrame(index=historical_prices_pd.index, columns=symbol_cols)\n",
    "    order_size['PENN'] = np.nan\n",
    "    order_size['PVH'] = np.nan\n",
    "    order_size['INVH'] = np.nan\n",
    "    order_size['CSGP'] = np.nan\n",
    "\n",
    "    #short\n",
    "    order_size.loc[open_position, 'PENN'] = -10\n",
    "    order_size.loc[close_position, 'PENN'] = 0\n",
    "\n",
    "    order_size.loc[open_position, 'PVH'] = -10\n",
    "    order_size.loc[close_position, 'PVH'] = 0\n",
    "\n",
    "    #long\n",
    "    order_size.loc[open_position, 'INVH'] = 10\n",
    "    order_size.loc[close_position, 'INVH'] = 0\n",
    "\n",
    "    order_size.loc[open_position, 'CSGP'] = 10\n",
    "    order_size.loc[close_position, 'CSGP'] = 0\n",
    "\n",
    "    # Execute at the next bar\n",
    "    order_size = order_size.vbt.fshift(1)\n",
    "\n",
    "    portfolio = vbt.Portfolio.from_orders(\n",
    "            historical_close_prices,  # current close as reference price\n",
    "            size=order_size,  \n",
    "            price=historical_open_prices,  # current open as execution price\n",
    "            size_type='targetpercent', \n",
    "            val_price=historical_close_prices.vbt.fshift(1),  # previous close as group valuation price\n",
    "            init_cash=CASH,\n",
    "            allow_partial=False,\n",
    "            fees=COMMPERC,\n",
    "            direction='both',\n",
    "            cash_sharing=True,  # share capital between assets in the same group\n",
    "            group_by=True,  # all columns belong to the same group\n",
    "            call_seq='auto',  # sell before buying\n",
    "            freq='d'  # index frequency for annualization\n",
    "    )\n",
    "    return portfolio"
   ]
  },
  {
   "cell_type": "code",
   "execution_count": 75,
   "id": "289f4533-767f-49ea-8646-e590414dfa5b",
   "metadata": {
    "execution": {
     "iopub.execute_input": "2023-04-05T14:22:42.269950Z",
     "iopub.status.busy": "2023-04-05T14:22:42.269545Z",
     "iopub.status.idle": "2023-04-05T14:22:42.288865Z",
     "shell.execute_reply": "2023-04-05T14:22:42.288155Z",
     "shell.execute_reply.started": "2023-04-05T14:22:42.269921Z"
    },
    "tags": []
   },
   "outputs": [],
   "source": [
    "portfolio = backtest('2022-09-02', '2022-10-31')"
   ]
  },
  {
   "cell_type": "code",
   "execution_count": 76,
   "id": "68cb1ad0-d60b-4ebc-83d7-83b606abd1d6",
   "metadata": {
    "execution": {
     "iopub.execute_input": "2023-04-05T14:22:43.841204Z",
     "iopub.status.busy": "2023-04-05T14:22:43.840784Z",
     "iopub.status.idle": "2023-04-05T14:22:43.863018Z",
     "shell.execute_reply": "2023-04-05T14:22:43.862309Z",
     "shell.execute_reply.started": "2023-04-05T14:22:43.841176Z"
    },
    "tags": []
   },
   "outputs": [
    {
     "data": {
      "text/html": [
       "<div>\n",
       "<style scoped>\n",
       "    .dataframe tbody tr th:only-of-type {\n",
       "        vertical-align: middle;\n",
       "    }\n",
       "\n",
       "    .dataframe tbody tr th {\n",
       "        vertical-align: top;\n",
       "    }\n",
       "\n",
       "    .dataframe thead th {\n",
       "        text-align: right;\n",
       "    }\n",
       "</style>\n",
       "<table border=\"1\" class=\"dataframe\">\n",
       "  <thead>\n",
       "    <tr style=\"text-align: right;\">\n",
       "      <th></th>\n",
       "      <th>Order Id</th>\n",
       "      <th>Column</th>\n",
       "      <th>Timestamp</th>\n",
       "      <th>Size</th>\n",
       "      <th>Price</th>\n",
       "      <th>Fees</th>\n",
       "      <th>Side</th>\n",
       "    </tr>\n",
       "  </thead>\n",
       "  <tbody>\n",
       "    <tr>\n",
       "      <th>0</th>\n",
       "      <td>0</td>\n",
       "      <td>(PENN, PENN)</td>\n",
       "      <td>2022-09-06</td>\n",
       "      <td>31948.881789</td>\n",
       "      <td>31.66</td>\n",
       "      <td>0.0</td>\n",
       "      <td>Sell</td>\n",
       "    </tr>\n",
       "    <tr>\n",
       "      <th>1</th>\n",
       "      <td>1</td>\n",
       "      <td>(PVH, PVH)</td>\n",
       "      <td>2022-09-06</td>\n",
       "      <td>18321.729571</td>\n",
       "      <td>55.15</td>\n",
       "      <td>0.0</td>\n",
       "      <td>Sell</td>\n",
       "    </tr>\n",
       "    <tr>\n",
       "      <th>2</th>\n",
       "      <td>2</td>\n",
       "      <td>(INVH, INVH)</td>\n",
       "      <td>2022-09-06</td>\n",
       "      <td>27419.797094</td>\n",
       "      <td>38.20</td>\n",
       "      <td>0.0</td>\n",
       "      <td>Buy</td>\n",
       "    </tr>\n",
       "    <tr>\n",
       "      <th>3</th>\n",
       "      <td>3</td>\n",
       "      <td>(CSGP, CSGP)</td>\n",
       "      <td>2022-09-06</td>\n",
       "      <td>14106.361969</td>\n",
       "      <td>75.00</td>\n",
       "      <td>0.0</td>\n",
       "      <td>Buy</td>\n",
       "    </tr>\n",
       "    <tr>\n",
       "      <th>4</th>\n",
       "      <td>4</td>\n",
       "      <td>(CSGP, CSGP)</td>\n",
       "      <td>2022-11-01</td>\n",
       "      <td>14106.361969</td>\n",
       "      <td>83.70</td>\n",
       "      <td>0.0</td>\n",
       "      <td>Sell</td>\n",
       "    </tr>\n",
       "    <tr>\n",
       "      <th>5</th>\n",
       "      <td>5</td>\n",
       "      <td>(INVH, INVH)</td>\n",
       "      <td>2022-11-01</td>\n",
       "      <td>27419.797094</td>\n",
       "      <td>31.94</td>\n",
       "      <td>0.0</td>\n",
       "      <td>Sell</td>\n",
       "    </tr>\n",
       "    <tr>\n",
       "      <th>6</th>\n",
       "      <td>6</td>\n",
       "      <td>(PVH, PVH)</td>\n",
       "      <td>2022-11-01</td>\n",
       "      <td>18321.729571</td>\n",
       "      <td>52.95</td>\n",
       "      <td>0.0</td>\n",
       "      <td>Buy</td>\n",
       "    </tr>\n",
       "    <tr>\n",
       "      <th>7</th>\n",
       "      <td>7</td>\n",
       "      <td>(PENN, PENN)</td>\n",
       "      <td>2022-11-01</td>\n",
       "      <td>31948.881789</td>\n",
       "      <td>34.09</td>\n",
       "      <td>0.0</td>\n",
       "      <td>Buy</td>\n",
       "    </tr>\n",
       "  </tbody>\n",
       "</table>\n",
       "</div>"
      ],
      "text/plain": [
       "   Order Id        Column  Timestamp          Size  Price  Fees  Side\n",
       "0         0  (PENN, PENN) 2022-09-06  31948.881789  31.66   0.0  Sell\n",
       "1         1    (PVH, PVH) 2022-09-06  18321.729571  55.15   0.0  Sell\n",
       "2         2  (INVH, INVH) 2022-09-06  27419.797094  38.20   0.0   Buy\n",
       "3         3  (CSGP, CSGP) 2022-09-06  14106.361969  75.00   0.0   Buy\n",
       "4         4  (CSGP, CSGP) 2022-11-01  14106.361969  83.70   0.0  Sell\n",
       "5         5  (INVH, INVH) 2022-11-01  27419.797094  31.94   0.0  Sell\n",
       "6         6    (PVH, PVH) 2022-11-01  18321.729571  52.95   0.0   Buy\n",
       "7         7  (PENN, PENN) 2022-11-01  31948.881789  34.09   0.0   Buy"
      ]
     },
     "execution_count": 76,
     "metadata": {},
     "output_type": "execute_result"
    }
   ],
   "source": [
    "portfolio.orders.records_readable.head(20)"
   ]
  },
  {
   "cell_type": "code",
   "execution_count": 77,
   "id": "c94d972d-de9f-402f-a5ac-56d61c6b6acb",
   "metadata": {
    "execution": {
     "iopub.execute_input": "2023-04-05T14:22:52.640161Z",
     "iopub.status.busy": "2023-04-05T14:22:52.639754Z",
     "iopub.status.idle": "2023-04-05T14:22:52.658286Z",
     "shell.execute_reply": "2023-04-05T14:22:52.657619Z",
     "shell.execute_reply.started": "2023-04-05T14:22:52.640131Z"
    },
    "tags": []
   },
   "outputs": [
    {
     "data": {
      "text/plain": [
       "date\n",
       "2022-08-01    100000.000000\n",
       "2022-08-02    100000.000000\n",
       "2022-08-03    100000.000000\n",
       "2022-08-04    100000.000000\n",
       "2022-08-05    100000.000000\n",
       "                  ...      \n",
       "2022-11-25     13749.441636\n",
       "2022-11-28     13749.441636\n",
       "2022-11-29     13749.441636\n",
       "2022-11-30     13749.441636\n",
       "2022-12-01     13749.441636\n",
       "Name: cash, Length: 87, dtype: float64"
      ]
     },
     "execution_count": 77,
     "metadata": {},
     "output_type": "execute_result"
    }
   ],
   "source": [
    "portfolio.cash().rename('cash')"
   ]
  },
  {
   "cell_type": "code",
   "execution_count": 80,
   "id": "e7ea9904-171c-4661-b0b2-450675733ecb",
   "metadata": {
    "execution": {
     "iopub.execute_input": "2023-04-05T14:23:08.233532Z",
     "iopub.status.busy": "2023-04-05T14:23:08.233129Z",
     "iopub.status.idle": "2023-04-05T14:23:08.252699Z",
     "shell.execute_reply": "2023-04-05T14:23:08.251950Z",
     "shell.execute_reply.started": "2023-04-05T14:23:08.233504Z"
    },
    "tags": []
   },
   "outputs": [],
   "source": [
    "portfolio2 = backtest('2022-09-19', '2022-10-31')"
   ]
  },
  {
   "cell_type": "code",
   "execution_count": 79,
   "id": "eac2250b-1f10-48c9-b671-32c4a8be2629",
   "metadata": {
    "execution": {
     "iopub.execute_input": "2023-04-05T14:22:54.502412Z",
     "iopub.status.busy": "2023-04-05T14:22:54.502007Z",
     "iopub.status.idle": "2023-04-05T14:22:54.524180Z",
     "shell.execute_reply": "2023-04-05T14:22:54.523511Z",
     "shell.execute_reply.started": "2023-04-05T14:22:54.502384Z"
    },
    "tags": []
   },
   "outputs": [
    {
     "data": {
      "text/html": [
       "<div>\n",
       "<style scoped>\n",
       "    .dataframe tbody tr th:only-of-type {\n",
       "        vertical-align: middle;\n",
       "    }\n",
       "\n",
       "    .dataframe tbody tr th {\n",
       "        vertical-align: top;\n",
       "    }\n",
       "\n",
       "    .dataframe thead th {\n",
       "        text-align: right;\n",
       "    }\n",
       "</style>\n",
       "<table border=\"1\" class=\"dataframe\">\n",
       "  <thead>\n",
       "    <tr style=\"text-align: right;\">\n",
       "      <th></th>\n",
       "      <th>Order Id</th>\n",
       "      <th>Column</th>\n",
       "      <th>Timestamp</th>\n",
       "      <th>Size</th>\n",
       "      <th>Price</th>\n",
       "      <th>Fees</th>\n",
       "      <th>Side</th>\n",
       "    </tr>\n",
       "  </thead>\n",
       "  <tbody>\n",
       "    <tr>\n",
       "      <th>0</th>\n",
       "      <td>0</td>\n",
       "      <td>(PENN, PENN)</td>\n",
       "      <td>2022-09-06</td>\n",
       "      <td>31948.881789</td>\n",
       "      <td>31.66</td>\n",
       "      <td>0.0</td>\n",
       "      <td>Sell</td>\n",
       "    </tr>\n",
       "    <tr>\n",
       "      <th>1</th>\n",
       "      <td>1</td>\n",
       "      <td>(PVH, PVH)</td>\n",
       "      <td>2022-09-06</td>\n",
       "      <td>18321.729571</td>\n",
       "      <td>55.15</td>\n",
       "      <td>0.0</td>\n",
       "      <td>Sell</td>\n",
       "    </tr>\n",
       "    <tr>\n",
       "      <th>2</th>\n",
       "      <td>2</td>\n",
       "      <td>(INVH, INVH)</td>\n",
       "      <td>2022-09-06</td>\n",
       "      <td>27419.797094</td>\n",
       "      <td>38.20</td>\n",
       "      <td>0.0</td>\n",
       "      <td>Buy</td>\n",
       "    </tr>\n",
       "    <tr>\n",
       "      <th>3</th>\n",
       "      <td>3</td>\n",
       "      <td>(CSGP, CSGP)</td>\n",
       "      <td>2022-09-06</td>\n",
       "      <td>14106.361969</td>\n",
       "      <td>75.00</td>\n",
       "      <td>0.0</td>\n",
       "      <td>Buy</td>\n",
       "    </tr>\n",
       "    <tr>\n",
       "      <th>4</th>\n",
       "      <td>4</td>\n",
       "      <td>(CSGP, CSGP)</td>\n",
       "      <td>2022-11-01</td>\n",
       "      <td>14106.361969</td>\n",
       "      <td>83.70</td>\n",
       "      <td>0.0</td>\n",
       "      <td>Sell</td>\n",
       "    </tr>\n",
       "    <tr>\n",
       "      <th>5</th>\n",
       "      <td>5</td>\n",
       "      <td>(INVH, INVH)</td>\n",
       "      <td>2022-11-01</td>\n",
       "      <td>27419.797094</td>\n",
       "      <td>31.94</td>\n",
       "      <td>0.0</td>\n",
       "      <td>Sell</td>\n",
       "    </tr>\n",
       "    <tr>\n",
       "      <th>6</th>\n",
       "      <td>6</td>\n",
       "      <td>(PVH, PVH)</td>\n",
       "      <td>2022-11-01</td>\n",
       "      <td>18321.729571</td>\n",
       "      <td>52.95</td>\n",
       "      <td>0.0</td>\n",
       "      <td>Buy</td>\n",
       "    </tr>\n",
       "    <tr>\n",
       "      <th>7</th>\n",
       "      <td>7</td>\n",
       "      <td>(PENN, PENN)</td>\n",
       "      <td>2022-11-01</td>\n",
       "      <td>31948.881789</td>\n",
       "      <td>34.09</td>\n",
       "      <td>0.0</td>\n",
       "      <td>Buy</td>\n",
       "    </tr>\n",
       "  </tbody>\n",
       "</table>\n",
       "</div>"
      ],
      "text/plain": [
       "   Order Id        Column  Timestamp          Size  Price  Fees  Side\n",
       "0         0  (PENN, PENN) 2022-09-06  31948.881789  31.66   0.0  Sell\n",
       "1         1    (PVH, PVH) 2022-09-06  18321.729571  55.15   0.0  Sell\n",
       "2         2  (INVH, INVH) 2022-09-06  27419.797094  38.20   0.0   Buy\n",
       "3         3  (CSGP, CSGP) 2022-09-06  14106.361969  75.00   0.0   Buy\n",
       "4         4  (CSGP, CSGP) 2022-11-01  14106.361969  83.70   0.0  Sell\n",
       "5         5  (INVH, INVH) 2022-11-01  27419.797094  31.94   0.0  Sell\n",
       "6         6    (PVH, PVH) 2022-11-01  18321.729571  52.95   0.0   Buy\n",
       "7         7  (PENN, PENN) 2022-11-01  31948.881789  34.09   0.0   Buy"
      ]
     },
     "execution_count": 79,
     "metadata": {},
     "output_type": "execute_result"
    }
   ],
   "source": [
    "portfolio.orders.records_readable.head(20)"
   ]
  },
  {
   "cell_type": "code",
   "execution_count": 74,
   "id": "70ef5464-3252-4d31-81e6-2e0530d106ae",
   "metadata": {
    "execution": {
     "iopub.execute_input": "2023-04-05T14:22:36.675100Z",
     "iopub.status.busy": "2023-04-05T14:22:36.674689Z",
     "iopub.status.idle": "2023-04-05T14:22:36.693460Z",
     "shell.execute_reply": "2023-04-05T14:22:36.692767Z",
     "shell.execute_reply.started": "2023-04-05T14:22:36.675070Z"
    },
    "tags": []
   },
   "outputs": [
    {
     "data": {
      "text/plain": [
       "date\n",
       "2022-08-01    100000.000000\n",
       "2022-08-02    100000.000000\n",
       "2022-08-03    100000.000000\n",
       "2022-08-04    100000.000000\n",
       "2022-08-05    100000.000000\n",
       "                  ...      \n",
       "2022-11-25     13749.441636\n",
       "2022-11-28     13749.441636\n",
       "2022-11-29     13749.441636\n",
       "2022-11-30     13749.441636\n",
       "2022-12-01     13749.441636\n",
       "Name: cash, Length: 87, dtype: float64"
      ]
     },
     "execution_count": 74,
     "metadata": {},
     "output_type": "execute_result"
    }
   ],
   "source": [
    "portfolio.cash().rename('cash')"
   ]
  },
  {
   "cell_type": "code",
   "execution_count": null,
   "id": "10c1f7d3-501c-461f-98c5-864f348aeeee",
   "metadata": {},
   "outputs": [],
   "source": []
  }
 ],
 "metadata": {
  "kernelspec": {
   "display_name": "PySpark (Kubernetes)",
   "language": "python",
   "name": "spark_python_kubernetes"
  },
  "language_info": {
   "codemirror_mode": {
    "name": "ipython",
    "version": 3
   },
   "file_extension": ".py",
   "mimetype": "text/x-python",
   "name": "python",
   "nbconvert_exporter": "python",
   "pygments_lexer": "ipython3",
   "version": "3.9.9"
  }
 },
 "nbformat": 4,
 "nbformat_minor": 5
}
